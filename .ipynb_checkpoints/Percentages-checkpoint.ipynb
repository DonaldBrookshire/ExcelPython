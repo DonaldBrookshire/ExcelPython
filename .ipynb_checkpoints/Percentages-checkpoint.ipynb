{
 "cells": [
  {
   "cell_type": "code",
   "execution_count": 58,
   "metadata": {
    "collapsed": true
   },
   "outputs": [],
   "source": [
    "import openpyxl as op"
   ]
  },
  {
   "cell_type": "code",
   "execution_count": 59,
   "metadata": {
    "collapsed": true
   },
   "outputs": [],
   "source": [
    "wb = op.load_workbook('Facility Participation Counts.xlsx')"
   ]
  },
  {
   "cell_type": "code",
   "execution_count": 60,
   "metadata": {},
   "outputs": [
    {
     "data": {
      "text/plain": [
       "openpyxl.workbook.workbook.Workbook"
      ]
     },
     "execution_count": 60,
     "metadata": {},
     "output_type": "execute_result"
    }
   ],
   "source": [
    "type(wb)"
   ]
  },
  {
   "cell_type": "code",
   "execution_count": 61,
   "metadata": {},
   "outputs": [
    {
     "data": {
      "text/plain": [
       "['Sheet1']"
      ]
     },
     "execution_count": 61,
     "metadata": {},
     "output_type": "execute_result"
    }
   ],
   "source": [
    "wb.get_sheet_names()"
   ]
  },
  {
   "cell_type": "code",
   "execution_count": 62,
   "metadata": {
    "collapsed": true
   },
   "outputs": [],
   "source": [
    "sheet = wb.get_sheet_by_name('Sheet1')"
   ]
  },
  {
   "cell_type": "code",
   "execution_count": 63,
   "metadata": {
    "collapsed": true
   },
   "outputs": [],
   "source": [
    "percentages = []\n",
    "for i in range(21, 52,):\n",
    "    temp = 0\n",
    "    temp = ((sheet.cell(row = i, column = 3).value * 100))\n",
    "    temp = temp/(sheet.cell(row=i, column=1).value)\n",
    "    percentages.append(temp)"
   ]
  },
  {
   "cell_type": "code",
   "execution_count": 64,
   "metadata": {},
   "outputs": [
    {
     "name": "stdout",
     "output_type": "stream",
     "text": [
      "293.39297262341023\n",
      "292.33720736250905\n",
      "140.29194161167766\n",
      "353.9991941170545\n",
      "395.51571836840736\n",
      "266.8835393623943\n",
      "441.7867714854176\n",
      "460.24230186774355\n",
      "306.6972312117943\n",
      "416.09399039582263\n",
      "508.83303584350426\n",
      "359.85742170924215\n",
      "438.71990709723525\n",
      "505.6738882554162\n",
      "268.6219198539783\n",
      "402.77588265393143\n",
      "432.39902891194\n",
      "192.87231331237788\n",
      "412.71147880041366\n",
      "527.5202354672554\n",
      "201.11664820967147\n",
      "575.5059021922428\n",
      "483.78178656813736\n",
      "40.83690825619026\n",
      "273.22150234139457\n",
      "274.0332612222823\n",
      "120.8013010053223\n",
      "279.04923076923075\n",
      "58.656180211671035\n",
      "224.40856440856442\n",
      "710.3392277156262\n"
     ]
    }
   ],
   "source": [
    "print(*percentages, sep=\"\\n\")"
   ]
  },
  {
   "cell_type": "code",
   "execution_count": null,
   "metadata": {
    "collapsed": true
   },
   "outputs": [],
   "source": []
  }
 ],
 "metadata": {
  "kernelspec": {
   "display_name": "Python 3",
   "language": "python",
   "name": "python3"
  },
  "language_info": {
   "codemirror_mode": {
    "name": "ipython",
    "version": 3
   },
   "file_extension": ".py",
   "mimetype": "text/x-python",
   "name": "python",
   "nbconvert_exporter": "python",
   "pygments_lexer": "ipython3",
   "version": "3.6.3"
  }
 },
 "nbformat": 4,
 "nbformat_minor": 2
}
