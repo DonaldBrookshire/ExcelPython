{
 "cells": [
  {
   "cell_type": "markdown",
   "metadata": {},
   "source": [
    "## This is a program to calculate Chi Square Test\n",
    "\n",
    "Please enter the variables for the test:\n",
    "* uR = Used Retained\n",
    "* uNR = Used Not Retained\n",
    "* nUR = Not Used Retained\n",
    "* nUNR = Not Used Not Retained"
   ]
  },
  {
   "cell_type": "code",
   "execution_count": 13,
   "metadata": {},
   "outputs": [],
   "source": [
    "# NOTE: Variables for the matrix.\n",
    "\n",
    "uR = 2761\n",
    "uNR = 558\n",
    "nUR = 1152\n",
    "nUNR = 416"
   ]
  },
  {
   "cell_type": "code",
   "execution_count": 15,
   "metadata": {},
   "outputs": [],
   "source": [
    "# NOTE: Functions\n",
    "\n",
    "def calculateTotals(ur, unr, nur, nunr):\n",
    "    row1 = ur + unr\n",
    "    row2 = nur + nunr\n",
    "    column1 = ur + nur\n",
    "    column2 = unr + nunr\n",
    "    \n",
    "    return row1, row2, column1, column2\n",
    "\n",
    "def chiSquare():\n",
    "    \n",
    "    row1, row2, col1, col2 = calculateTotals(uR, uNR, nU, nUNR)\n",
    "    total = row1 + row2\n",
    "    \n",
    "    chi = (total * ((uR) * (nUNR) - (nUR) * (uNR)) ** 2) / ( row1 * row2 * col1 * col2)\n",
    "    \n",
    "    return chi"
   ]
  },
  {
   "cell_type": "code",
   "execution_count": 16,
   "metadata": {},
   "outputs": [
    {
     "name": "stdout",
     "output_type": "stream",
     "text": [
      "The Chi-Square Test value is 63.02446684931284\n"
     ]
    }
   ],
   "source": [
    "print(\"The Chi-Square Test value is\", chiSquare())"
   ]
  }
 ],
 "metadata": {
  "kernelspec": {
   "display_name": "Python 3",
   "language": "python",
   "name": "python3"
  },
  "language_info": {
   "codemirror_mode": {
    "name": "ipython",
    "version": 3
   },
   "file_extension": ".py",
   "mimetype": "text/x-python",
   "name": "python",
   "nbconvert_exporter": "python",
   "pygments_lexer": "ipython3",
   "version": "3.6.4"
  }
 },
 "nbformat": 4,
 "nbformat_minor": 2
}
