{
 "cells": [
  {
   "cell_type": "code",
   "execution_count": 67,
   "metadata": {
    "collapsed": true
   },
   "outputs": [],
   "source": [
    "# Work in progress\n",
    "# Calculating Distinct Users\n",
    "import openpyxl as op"
   ]
  },
  {
   "cell_type": "code",
   "execution_count": 5,
   "metadata": {},
   "outputs": [],
   "source": [
    "wb = op.load_workbook(\"C:\\\\Users\\\\kbantupa\\\\Documents\\\\Spreadsheets\\\\Daily Reports.xlsx\")\n"
   ]
  },
  {
   "cell_type": "code",
   "execution_count": 6,
   "metadata": {},
   "outputs": [
    {
     "data": {
      "text/plain": [
       "openpyxl.workbook.workbook.Workbook"
      ]
     },
     "execution_count": 6,
     "metadata": {},
     "output_type": "execute_result"
    }
   ],
   "source": [
    "type(wb)"
   ]
  },
  {
   "cell_type": "code",
   "execution_count": 35,
   "metadata": {},
   "outputs": [],
   "source": [
    "sheetlist = wb.sheetnames"
   ]
  },
  {
   "cell_type": "code",
   "execution_count": 55,
   "metadata": {},
   "outputs": [
    {
     "name": "stdout",
     "output_type": "stream",
     "text": [
      "20\n"
     ]
    }
   ],
   "source": [
    "sheet = wb[sheetlist[0]]\n",
    "print(sheet.cell(row = 4, column = 12).value)"
   ]
  },
  {
   "cell_type": "code",
   "execution_count": 66,
   "metadata": {},
   "outputs": [
    {
     "name": "stdout",
     "output_type": "stream",
     "text": [
      "Male:  116 | Female : 44 | Total : 464\n"
     ]
    }
   ],
   "source": [
    "m = 0\n",
    "f = 0\n",
    "total = 0\n",
    "\n",
    "def distinct(rw, cl, count, sheet):\n",
    "    currSheet = wb[sheet]\n",
    "    femaleCount = cl + 1\n",
    "    global m\n",
    "    global f\n",
    "    global total\n",
    "    \n",
    "    for i in range(0, count):\n",
    "        f += currSheet.cell(row = rw, column = cl).value\n",
    "        m += currSheet.cell(row = rw, column = femaleCount).value\n",
    "        total += m + f\n",
    "        rw += 1\n",
    "        \n",
    "\n",
    "\n",
    "for sheet in sheetlist:\n",
    "    if sheet == 'Year 2015':\n",
    "        break\n",
    "    elif sheet == 'Week 33':\n",
    "        distinct(4, 12, 4, sheet)\n",
    "        \n",
    "print(\"Male: \", m, \"| Female :\", f, \"| Total :\", total)\n",
    "        "
   ]
  },
  {
   "cell_type": "code",
   "execution_count": null,
   "metadata": {},
   "outputs": [],
   "source": []
  }
 ],
 "metadata": {
  "kernelspec": {
   "display_name": "Python 2",
   "language": "python",
   "name": "python2"
  },
  "language_info": {
   "codemirror_mode": {
    "name": "ipython",
    "version": 2
   },
   "file_extension": ".py",
   "mimetype": "text/x-python",
   "name": "python",
   "nbconvert_exporter": "python",
   "pygments_lexer": "ipython2",
   "version": "2.7.6"
  }
 },
 "nbformat": 4,
 "nbformat_minor": 0
}
